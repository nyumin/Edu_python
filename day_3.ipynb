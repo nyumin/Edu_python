{
 "cells": [
  {
   "cell_type": "code",
   "execution_count": 8,
   "id": "0801abe8-fe36-48cb-a055-e3762664d04d",
   "metadata": {},
   "outputs": [],
   "source": [
    "class Count:\n",
    "    def __init__(self): #클래스 안에서 변수를 정의하기 위해 기본적으로 있는 함수\n",
    "        self.num = 0 #변수\n",
    "        self.name = \"JS\"\n",
    "    def increment(self): #함수\n",
    "        self.num += 1\n",
    "        return self.num"
   ]
  },
  {
   "cell_type": "code",
   "execution_count": 9,
   "id": "bd63bfa5-9c6e-40f0-a69a-4b01d9ed4e28",
   "metadata": {},
   "outputs": [],
   "source": [
    "c = Count()"
   ]
  },
  {
   "cell_type": "code",
   "execution_count": 16,
   "id": "1971fbe3-58bf-4bb0-a776-0a6cacccdab6",
   "metadata": {},
   "outputs": [
    {
     "data": {
      "text/plain": [
       "1"
      ]
     },
     "execution_count": 16,
     "metadata": {},
     "output_type": "execute_result"
    }
   ],
   "source": [
    "c.num"
   ]
  },
  {
   "cell_type": "code",
   "execution_count": 12,
   "id": "047602f4-fece-4d49-8123-f7d0ed42fb8a",
   "metadata": {},
   "outputs": [
    {
     "data": {
      "text/plain": [
       "'JS'"
      ]
     },
     "execution_count": 12,
     "metadata": {},
     "output_type": "execute_result"
    }
   ],
   "source": [
    "c.name"
   ]
  },
  {
   "cell_type": "code",
   "execution_count": 14,
   "id": "1152c625-db4a-44a6-9a45-ee402e0a704e",
   "metadata": {},
   "outputs": [
    {
     "data": {
      "text/plain": [
       "1"
      ]
     },
     "execution_count": 14,
     "metadata": {},
     "output_type": "execute_result"
    }
   ],
   "source": [
    "c.increment()"
   ]
  },
  {
   "cell_type": "code",
   "execution_count": 17,
   "id": "046bfdda-d2d3-416b-ad6f-e7056ca4482d",
   "metadata": {},
   "outputs": [
    {
     "data": {
      "text/plain": [
       "1"
      ]
     },
     "execution_count": 17,
     "metadata": {},
     "output_type": "execute_result"
    }
   ],
   "source": [
    "c.num"
   ]
  },
  {
   "cell_type": "code",
   "execution_count": 18,
   "id": "e9f5f35b-001b-48bc-b35e-02047cb213f8",
   "metadata": {},
   "outputs": [],
   "source": [
    "d = Count() #다른 객체로 정의"
   ]
  },
  {
   "cell_type": "code",
   "execution_count": 19,
   "id": "4ffd882f-0eb6-4c0f-8173-11a4e802dfe7",
   "metadata": {},
   "outputs": [
    {
     "data": {
      "text/plain": [
       "0"
      ]
     },
     "execution_count": 19,
     "metadata": {},
     "output_type": "execute_result"
    }
   ],
   "source": [
    "d.num"
   ]
  },
  {
   "cell_type": "code",
   "execution_count": 21,
   "id": "ee2151d3-a5f7-47ed-89f9-56b145e65815",
   "metadata": {},
   "outputs": [],
   "source": [
    "import os #모듈 불러오기 함수"
   ]
  },
  {
   "cell_type": "code",
   "execution_count": 22,
   "id": "0116a1e7-5988-4de4-bbdf-6aecd881ffcf",
   "metadata": {},
   "outputs": [
    {
     "data": {
      "text/plain": [
       "['.git',\n",
       " '.ipynb_checkpoints',\n",
       " 'ARGV',\n",
       " 'day_1.ipynb',\n",
       " 'day_2.ipynb',\n",
       " 'day_3.ipynb',\n",
       " 'README.md',\n",
       " 'test.py']"
      ]
     },
     "execution_count": 22,
     "metadata": {},
     "output_type": "execute_result"
    }
   ],
   "source": [
    "os.listdir()"
   ]
  },
  {
   "cell_type": "code",
   "execution_count": 42,
   "id": "f44aba85-1b41-48ac-9875-d7a2beb2c498",
   "metadata": {},
   "outputs": [],
   "source": [
    "import os"
   ]
  },
  {
   "cell_type": "code",
   "execution_count": 43,
   "id": "803f2378-4209-4519-94b2-d07964047978",
   "metadata": {},
   "outputs": [
    {
     "data": {
      "text/plain": [
       "['main.py', 'test.py', 'test.txt', '__pycache__']"
      ]
     },
     "execution_count": 43,
     "metadata": {},
     "output_type": "execute_result"
    }
   ],
   "source": [
    "os.listdir(\"250621\")"
   ]
  },
  {
   "cell_type": "code",
   "execution_count": 44,
   "id": "6b0398e3-e121-49d4-9809-22384811c5fe",
   "metadata": {},
   "outputs": [],
   "source": [
    "f = open(\"250621/test.txt\", \"r\")"
   ]
  },
  {
   "cell_type": "code",
   "execution_count": 45,
   "id": "7d5b4a63-fbf0-4986-b06a-545f3fbb9a8d",
   "metadata": {},
   "outputs": [
    {
     "data": {
      "text/plain": [
       "''"
      ]
     },
     "execution_count": 45,
     "metadata": {},
     "output_type": "execute_result"
    }
   ],
   "source": [
    "f.read()"
   ]
  },
  {
   "cell_type": "code",
   "execution_count": 51,
   "id": "8bf69884-854b-4137-b65a-238f2dfb10e4",
   "metadata": {},
   "outputs": [],
   "source": [
    "text = f.read()"
   ]
  },
  {
   "cell_type": "code",
   "execution_count": 52,
   "id": "8d1fccf3-11cd-469d-bd87-eee42cee9e61",
   "metadata": {},
   "outputs": [
    {
     "name": "stdout",
     "output_type": "stream",
     "text": [
      "\n"
     ]
    }
   ],
   "source": [
    "print(text)"
   ]
  },
  {
   "cell_type": "code",
   "execution_count": 53,
   "id": "fa5e45e9-c001-44f2-9e57-1198ad3fe909",
   "metadata": {},
   "outputs": [],
   "source": [
    "f.close()"
   ]
  },
  {
   "cell_type": "code",
   "execution_count": 54,
   "id": "5291bab1-5ce5-4697-8d47-2af16012c471",
   "metadata": {},
   "outputs": [],
   "source": [
    "f = open(\"250621/test.txt\", \"w\")"
   ]
  },
  {
   "cell_type": "code",
   "execution_count": 57,
   "id": "948c2b49-142a-43a6-84f5-1beff237e988",
   "metadata": {},
   "outputs": [],
   "source": [
    "f.write(\"My name is \")\n",
    "f.close()"
   ]
  },
  {
   "cell_type": "code",
   "execution_count": 58,
   "id": "a6bb8721-1b81-4dac-a10c-1106f84e0ee7",
   "metadata": {},
   "outputs": [],
   "source": [
    "f = open(\"250621/test.txt\", \"a\")"
   ]
  },
  {
   "cell_type": "code",
   "execution_count": 59,
   "id": "01a809f4-d1be-4cd2-b7a1-1eddfdbae816",
   "metadata": {},
   "outputs": [],
   "source": [
    "f.write(\"Yumin\")\n",
    "f.close()"
   ]
  },
  {
   "cell_type": "code",
   "execution_count": 62,
   "id": "f0981cd8-d0fe-4afb-9cc1-aecc4bc4fef8",
   "metadata": {},
   "outputs": [
    {
     "name": "stdout",
     "output_type": "stream",
     "text": [
      "id  menu    price\n",
      "1   pizza   10$\n",
      "2   chicken 15$\n",
      "3   hamburger   5$\n"
     ]
    }
   ],
   "source": [
    "f = open(\"250621/order.txt\", \"r\")\n",
    "data = f.read()\n",
    "print(data)"
   ]
  },
  {
   "cell_type": "code",
   "execution_count": 65,
   "id": "6ac729dd-72fa-45ea-82bc-83a542d1d0ab",
   "metadata": {},
   "outputs": [
    {
     "name": "stdout",
     "output_type": "stream",
     "text": [
      "id  menu    price\n",
      "\n",
      "1   pizza   10$\n",
      "\n",
      "2   chicken 15$\n",
      "\n"
     ]
    }
   ],
   "source": [
    "f = open(\"250621/order.txt\", \"r\")\n",
    "line = f.readline()\n",
    "print(line)\n",
    "line = f.readline()\n",
    "print(line)\n",
    "line = f.readline()\n",
    "print(line)"
   ]
  },
  {
   "cell_type": "code",
   "execution_count": 68,
   "id": "653d85c2-87d5-4212-b239-41821e3d5d89",
   "metadata": {},
   "outputs": [
    {
     "name": "stdout",
     "output_type": "stream",
     "text": [
      "id  menu    price\n",
      "\n",
      "['1   pizza   10$\\n', '2   chicken 15$\\n', '3   hamburger   5$']\n"
     ]
    }
   ],
   "source": [
    "f = open(\"250621/order.txt\", \"r\")\n",
    "lines = f.readlines()\n",
    "header = lines[0]\n",
    "contents = lines[1:]\n",
    "print(header)\n",
    "print(contents)"
   ]
  },
  {
   "cell_type": "code",
   "execution_count": 69,
   "id": "5c60a626-d2ab-4e6d-8f74-546a89d0d7d3",
   "metadata": {},
   "outputs": [
    {
     "data": {
      "text/plain": [
       "['id  menu    price\\n',\n",
       " '1   pizza   10$\\n',\n",
       " '2   chicken 15$\\n',\n",
       " '3   hamburger   5$']"
      ]
     },
     "execution_count": 69,
     "metadata": {},
     "output_type": "execute_result"
    }
   ],
   "source": [
    "with open(\"250621/order.txt\", \"r\") as f:\n",
    "    lines = f.readlines()\n",
    "\n",
    "lines"
   ]
  },
  {
   "cell_type": "code",
   "execution_count": 73,
   "id": "01cf07ab-da19-4e91-8b31-2662a4925784",
   "metadata": {},
   "outputs": [
    {
     "data": {
      "text/plain": [
       "11"
      ]
     },
     "execution_count": 73,
     "metadata": {},
     "output_type": "execute_result"
    }
   ],
   "source": [
    "a = \"Hello World\"\n",
    "len(a)"
   ]
  },
  {
   "cell_type": "code",
   "execution_count": 74,
   "id": "7df07a5c-14df-4cf7-97f5-d3b234c813b0",
   "metadata": {},
   "outputs": [],
   "source": [
    "a = \"Hello World\""
   ]
  },
  {
   "cell_type": "code",
   "execution_count": 77,
   "id": "81f2c8e0-ea44-44ee-80f8-0d8e43ce4f21",
   "metadata": {},
   "outputs": [
    {
     "data": {
      "text/plain": [
       "['Hell', ' W', 'rld']"
      ]
     },
     "execution_count": 77,
     "metadata": {},
     "output_type": "execute_result"
    }
   ],
   "source": [
    "a.split(\"o\")"
   ]
  },
  {
   "cell_type": "code",
   "execution_count": 78,
   "id": "a98d8448-0a84-4836-a751-ce7ff07906fb",
   "metadata": {},
   "outputs": [
    {
     "data": {
      "text/plain": [
       "'Hi World'"
      ]
     },
     "execution_count": 78,
     "metadata": {},
     "output_type": "execute_result"
    }
   ],
   "source": [
    "a.replace(\"Hello\",\"Hi\")"
   ]
  },
  {
   "cell_type": "code",
   "execution_count": 79,
   "id": "cb87ca5b-a84b-4b66-87ff-658fe3bf2ed6",
   "metadata": {},
   "outputs": [
    {
     "data": {
      "text/plain": [
       "'HELLO WORLD'"
      ]
     },
     "execution_count": 79,
     "metadata": {},
     "output_type": "execute_result"
    }
   ],
   "source": [
    "a.upper()"
   ]
  },
  {
   "cell_type": "code",
   "execution_count": 84,
   "id": "ffb987b8-102a-4514-957f-f55f981ae413",
   "metadata": {},
   "outputs": [
    {
     "data": {
      "text/plain": [
       "True"
      ]
     },
     "execution_count": 84,
     "metadata": {},
     "output_type": "execute_result"
    }
   ],
   "source": [
    "a.startswith(\"Hello\")"
   ]
  },
  {
   "cell_type": "code",
   "execution_count": 89,
   "id": "e6ef9e3b-3822-4a56-8e72-01bfb708a75d",
   "metadata": {},
   "outputs": [
    {
     "data": {
      "text/plain": [
       "True"
      ]
     },
     "execution_count": 89,
     "metadata": {},
     "output_type": "execute_result"
    }
   ],
   "source": [
    "a.endswith(\"d\")"
   ]
  },
  {
   "cell_type": "code",
   "execution_count": 91,
   "id": "b6f0073a-ef92-4df6-b0ce-103c52abfec4",
   "metadata": {},
   "outputs": [
    {
     "data": {
      "text/plain": [
       "-1"
      ]
     },
     "execution_count": 91,
     "metadata": {},
     "output_type": "execute_result"
    }
   ],
   "source": [
    "a.find(\"a\")"
   ]
  },
  {
   "cell_type": "code",
   "execution_count": 95,
   "id": "7d916f62-55d0-4a9d-acfb-fa598baf63a9",
   "metadata": {},
   "outputs": [
    {
     "name": "stdout",
     "output_type": "stream",
     "text": [
      "pizza\n"
     ]
    }
   ],
   "source": [
    "f = open(\"250621/order.txt\", \"r\")\n",
    "data = f.readlines()\n",
    "print(data[1].split()[1])"
   ]
  },
  {
   "cell_type": "code",
   "execution_count": 136,
   "id": "cfaf1a20-51b5-4a52-892c-a08ea684ef8b",
   "metadata": {},
   "outputs": [
    {
     "name": "stdout",
     "output_type": "stream",
     "text": [
      "평균 점수는 79.0 점 입니다.\n"
     ]
    }
   ],
   "source": [
    "f = open(\"250621/data.txt\", \"r\", encoding = 'UTF-8') #이름이 영어여서 유니코드 오류, utf 함수로 변환함\n",
    "data = f.readlines()\n",
    "#print(data)\n",
    "\n",
    "total = 0\n",
    "for line in data:\n",
    "    score = line.split()[1]\n",
    "    if score == \"점수\":\n",
    "        continue\n",
    "    total += int(score)\n",
    "\n",
    "# 평균 계산\n",
    "average = total / (len(data) - 1)\n",
    "print(\"평균 점수는\",average,\"점 입니다.\")"
   ]
  },
  {
   "cell_type": "code",
   "execution_count": 137,
   "id": "391ba16e-4a1e-46a5-83b6-2203da229fe2",
   "metadata": {},
   "outputs": [],
   "source": [
    "import time"
   ]
  },
  {
   "cell_type": "code",
   "execution_count": 138,
   "id": "506f4193-31d2-4e2e-9efd-4c52f04d45ce",
   "metadata": {},
   "outputs": [
    {
     "data": {
      "text/plain": [
       "1750484587.1499372"
      ]
     },
     "execution_count": 138,
     "metadata": {},
     "output_type": "execute_result"
    }
   ],
   "source": [
    "#970.01.01 00:00\n",
    "time.time()"
   ]
  },
  {
   "cell_type": "code",
   "execution_count": 139,
   "id": "272642a9-51b9-4214-b75e-10d3878b65c9",
   "metadata": {},
   "outputs": [],
   "source": [
    "import datetime"
   ]
  },
  {
   "cell_type": "code",
   "execution_count": 141,
   "id": "7f13438e-f407-4b1f-bdf1-a6a694a95a5b",
   "metadata": {},
   "outputs": [
    {
     "data": {
      "text/plain": [
       "datetime.datetime(2025, 6, 21, 14, 46, 11, 612256)"
      ]
     },
     "execution_count": 141,
     "metadata": {},
     "output_type": "execute_result"
    }
   ],
   "source": [
    "datetime.datetime.now()"
   ]
  },
  {
   "cell_type": "code",
   "execution_count": 142,
   "id": "e8f2fc74-a064-4070-b6a2-50ea1d6518fe",
   "metadata": {},
   "outputs": [],
   "source": [
    "import os"
   ]
  },
  {
   "cell_type": "code",
   "execution_count": 143,
   "id": "af8f254b-b73c-44d5-9e62-27e21b2d17b5",
   "metadata": {},
   "outputs": [
    {
     "data": {
      "text/plain": [
       "'nt'"
      ]
     },
     "execution_count": 143,
     "metadata": {},
     "output_type": "execute_result"
    }
   ],
   "source": [
    "os.name"
   ]
  },
  {
   "cell_type": "code",
   "execution_count": 144,
   "id": "fc500d49-23b2-4daf-bd20-714e8cb32b4f",
   "metadata": {},
   "outputs": [
    {
     "data": {
      "text/plain": [
       "'C:\\\\Users\\\\admin\\\\Desktop\\\\Edu_python'"
      ]
     },
     "execution_count": 144,
     "metadata": {},
     "output_type": "execute_result"
    }
   ],
   "source": [
    "os.getcwd()"
   ]
  },
  {
   "cell_type": "code",
   "execution_count": 148,
   "id": "99d7d67f-7d6d-487e-8d8d-842dd6314e93",
   "metadata": {},
   "outputs": [
    {
     "data": {
      "text/plain": [
       "['.git',\n",
       " '.ipynb_checkpoints',\n",
       " '250621',\n",
       " 'ARGV',\n",
       " 'day_1.ipynb',\n",
       " 'day_2.ipynb',\n",
       " 'day_3.ipynb',\n",
       " 'README.md',\n",
       " 'test.py']"
      ]
     },
     "execution_count": 148,
     "metadata": {},
     "output_type": "execute_result"
    }
   ],
   "source": [
    "os.listdir(\"./\")"
   ]
  },
  {
   "cell_type": "code",
   "execution_count": 150,
   "id": "b49d642a-dcea-46c4-bd7b-6b99a34b559c",
   "metadata": {},
   "outputs": [
    {
     "data": {
      "text/plain": [
       "True"
      ]
     },
     "execution_count": 150,
     "metadata": {},
     "output_type": "execute_result"
    }
   ],
   "source": [
    "os.path.exists(\"250621\")"
   ]
  },
  {
   "cell_type": "code",
   "execution_count": 151,
   "id": "3da7c581-e2e2-42d8-908d-068f27ddfd68",
   "metadata": {},
   "outputs": [
    {
     "data": {
      "text/plain": [
       "'win32'"
      ]
     },
     "execution_count": 151,
     "metadata": {},
     "output_type": "execute_result"
    }
   ],
   "source": [
    "import sys\n",
    "sys.platform"
   ]
  },
  {
   "cell_type": "code",
   "execution_count": 152,
   "id": "90ea37b7-b748-4572-a816-d66e10c817e5",
   "metadata": {},
   "outputs": [],
   "source": [
    "import numpy as np"
   ]
  },
  {
   "cell_type": "code",
   "execution_count": 153,
   "id": "b84f8078-bc90-46c2-b725-0bb9b480cfec",
   "metadata": {},
   "outputs": [],
   "source": [
    "# 1차원 배열\n",
    "a1 = np.array([1,2,3])\n",
    "\n",
    "# 2차원 배열\n",
    "a2 = np.array([[1,2,3],[4,5,6]])\n",
    "\n",
    "# 3차원 배열\n",
    "a3 = np.array([[[1,2],[3,4]],[[5,6],[7,8]]])"
   ]
  },
  {
   "cell_type": "code",
   "execution_count": 154,
   "id": "3f31551a-7bb1-47df-b4c8-eeb49827cf6c",
   "metadata": {},
   "outputs": [
    {
     "name": "stdout",
     "output_type": "stream",
     "text": [
      "[1 2 3]\n",
      "[[1 2 3]\n",
      " [4 5 6]]\n",
      "[[[1 2]\n",
      "  [3 4]]\n",
      "\n",
      " [[5 6]\n",
      "  [7 8]]]\n"
     ]
    }
   ],
   "source": [
    "print(a1)\n",
    "print(a2)\n",
    "print(a3)"
   ]
  },
  {
   "cell_type": "code",
   "execution_count": 155,
   "id": "1cb96317-fd02-4a42-a405-1d4650b270e6",
   "metadata": {},
   "outputs": [
    {
     "data": {
      "text/plain": [
       "array([5, 7, 9])"
      ]
     },
     "execution_count": 155,
     "metadata": {},
     "output_type": "execute_result"
    }
   ],
   "source": [
    "a = np.array([1,2,3])\n",
    "b = np.array([4,5,6])\n",
    "a + b"
   ]
  },
  {
   "cell_type": "code",
   "execution_count": 158,
   "id": "91718720-089b-486b-8b9b-61318deccb2b",
   "metadata": {},
   "outputs": [
    {
     "data": {
      "text/plain": [
       "array([[ 1,  4],\n",
       "       [ 9, 16]])"
      ]
     },
     "execution_count": 158,
     "metadata": {},
     "output_type": "execute_result"
    }
   ],
   "source": [
    "a = np.array([[1,2],[3,4]])\n",
    "b = np.array([[1,2],[3,4]])\n",
    "a * b"
   ]
  },
  {
   "cell_type": "code",
   "execution_count": 161,
   "id": "5abe2445-d087-4cb9-85fa-13858b9c29dd",
   "metadata": {},
   "outputs": [
    {
     "data": {
      "text/plain": [
       "2.5"
      ]
     },
     "execution_count": 161,
     "metadata": {},
     "output_type": "execute_result"
    }
   ],
   "source": [
    "np.mean(a)"
   ]
  },
  {
   "cell_type": "code",
   "execution_count": 165,
   "id": "18b57cdc-748b-4bce-9eb5-ce4367ff5097",
   "metadata": {},
   "outputs": [],
   "source": [
    "a = np.array([[1, 2, 3],[4, 5, 6]])"
   ]
  },
  {
   "cell_type": "code",
   "execution_count": 168,
   "id": "932c78b9-5a59-49be-9dd5-4ce09ff1bb01",
   "metadata": {},
   "outputs": [
    {
     "data": {
      "text/plain": [
       "array([2., 5.])"
      ]
     },
     "execution_count": 168,
     "metadata": {},
     "output_type": "execute_result"
    }
   ],
   "source": [
    "np.mean(a, axis=1)"
   ]
  },
  {
   "cell_type": "code",
   "execution_count": 169,
   "id": "729406cc-f854-4d5d-b6e6-0d4d92a8cc46",
   "metadata": {},
   "outputs": [
    {
     "data": {
      "text/plain": [
       "1"
      ]
     },
     "execution_count": 169,
     "metadata": {},
     "output_type": "execute_result"
    }
   ],
   "source": [
    "a[0][0]"
   ]
  },
  {
   "cell_type": "code",
   "execution_count": 170,
   "id": "dc8b1fc2-b914-495c-b71e-b26f873c0d31",
   "metadata": {},
   "outputs": [
    {
     "data": {
      "text/plain": [
       "5"
      ]
     },
     "execution_count": 170,
     "metadata": {},
     "output_type": "execute_result"
    }
   ],
   "source": [
    "a[1][1]"
   ]
  },
  {
   "cell_type": "code",
   "execution_count": 171,
   "id": "0e0bb2e0-4814-497e-a1c2-b767722ba98c",
   "metadata": {},
   "outputs": [],
   "source": [
    "a = np.array([[1, 2], [3, 4], [5, 6]])"
   ]
  },
  {
   "cell_type": "code",
   "execution_count": 172,
   "id": "6f9a6c32-bd81-4bdb-b468-91b3945c814b",
   "metadata": {},
   "outputs": [
    {
     "data": {
      "text/plain": [
       "array([[1, 3, 5],\n",
       "       [2, 4, 6]])"
      ]
     },
     "execution_count": 172,
     "metadata": {},
     "output_type": "execute_result"
    }
   ],
   "source": [
    "a.T"
   ]
  },
  {
   "cell_type": "code",
   "execution_count": 174,
   "id": "2bdb9eb2-12bb-4861-b01b-9732d6b7bde8",
   "metadata": {},
   "outputs": [
    {
     "data": {
      "text/plain": [
       "array([[1, 2, 3],\n",
       "       [4, 5, 6]])"
      ]
     },
     "execution_count": 174,
     "metadata": {},
     "output_type": "execute_result"
    }
   ],
   "source": [
    "a.reshape((2,3))"
   ]
  },
  {
   "cell_type": "code",
   "execution_count": 175,
   "id": "09c22445-916d-4340-9fd9-38c1181891b4",
   "metadata": {},
   "outputs": [
    {
     "data": {
      "text/plain": [
       "array([[1, 2],\n",
       "       [3, 4],\n",
       "       [5, 6]])"
      ]
     },
     "execution_count": 175,
     "metadata": {},
     "output_type": "execute_result"
    }
   ],
   "source": [
    "a"
   ]
  },
  {
   "cell_type": "code",
   "execution_count": 177,
   "id": "afe9153c-5a2d-4680-84ee-a184b3171efb",
   "metadata": {},
   "outputs": [],
   "source": [
    "a = np.array([1, 2, 3])\n",
    "b = np.array([4, 5, 6])"
   ]
  },
  {
   "cell_type": "code",
   "execution_count": 181,
   "id": "aa4c5f85-86c7-4e02-b2f0-950acd3cb33a",
   "metadata": {},
   "outputs": [
    {
     "data": {
      "text/plain": [
       "array([1, 2, 3, 4, 5, 6])"
      ]
     },
     "execution_count": 181,
     "metadata": {},
     "output_type": "execute_result"
    }
   ],
   "source": [
    "np.concatenate((a,b), axis=0)"
   ]
  },
  {
   "cell_type": "code",
   "execution_count": 184,
   "id": "2e575c09-fe95-4c7c-82b0-36ff072d98a8",
   "metadata": {},
   "outputs": [],
   "source": [
    "a = np.array([1, 2, 3, 4, 5, 6])"
   ]
  },
  {
   "cell_type": "code",
   "execution_count": 186,
   "id": "c7237325-3d51-4490-b17e-1473e5b7434b",
   "metadata": {},
   "outputs": [],
   "source": [
    "b, c = np.split(a,[3])"
   ]
  },
  {
   "cell_type": "code",
   "execution_count": 187,
   "id": "1b62a664-3c0b-423f-86ed-5caa420a13a4",
   "metadata": {},
   "outputs": [
    {
     "name": "stdout",
     "output_type": "stream",
     "text": [
      "[1 2 3]\n",
      "[4 5 6]\n"
     ]
    }
   ],
   "source": [
    "print(b)\n",
    "print(c)"
   ]
  }
 ],
 "metadata": {
  "kernelspec": {
   "display_name": "Python [conda env:base] *",
   "language": "python",
   "name": "conda-base-py"
  },
  "language_info": {
   "codemirror_mode": {
    "name": "ipython",
    "version": 3
   },
   "file_extension": ".py",
   "mimetype": "text/x-python",
   "name": "python",
   "nbconvert_exporter": "python",
   "pygments_lexer": "ipython3",
   "version": "3.12.7"
  }
 },
 "nbformat": 4,
 "nbformat_minor": 5
}
