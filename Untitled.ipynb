{
 "cells": [
  {
   "cell_type": "code",
   "execution_count": 2,
   "id": "006c94f7-caf3-41e4-b7e5-b482001d5708",
   "metadata": {},
   "outputs": [
    {
     "name": "stdout",
     "output_type": "stream",
     "text": [
      "Hello Worlddfasdf\n"
     ]
    }
   ],
   "source": [
    "print (\"Hello Worlddfasdf\")"
   ]
  },
  {
   "cell_type": "code",
   "execution_count": null,
   "id": "84af798c-1868-4b87-9d4d-e4455d3e440c",
   "metadata": {},
   "outputs": [],
   "source": []
  }
 ],
 "metadata": {
  "kernelspec": {
   "display_name": "Python [conda env:base] *",
   "language": "python",
   "name": "conda-base-py"
  },
  "language_info": {
   "codemirror_mode": {
    "name": "ipython",
    "version": 3
   },
   "file_extension": ".py",
   "mimetype": "text/x-python",
   "name": "python",
   "nbconvert_exporter": "python",
   "pygments_lexer": "ipython3",
   "version": "3.12.7"
  }
 },
 "nbformat": 4,
 "nbformat_minor": 5
}
