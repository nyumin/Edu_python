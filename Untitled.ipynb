{
 "cells": [
  {
   "cell_type": "code",
   "execution_count": 2,
   "id": "006c94f7-caf3-41e4-b7e5-b482001d5708",
   "metadata": {},
   "outputs": [
    {
     "name": "stdout",
     "output_type": "stream",
     "text": [
      "Hello Worlddfasdf\n"
     ]
    }
   ],
   "source": [
    "print (\"Hello Worlddfasdf\")"
   ]
  },
  {
   "cell_type": "code",
   "execution_count": 8,
   "id": "84af798c-1868-4b87-9d4d-e4455d3e440c",
   "metadata": {},
   "outputs": [
    {
     "name": "stdout",
     "output_type": "stream",
     "text": [
      "1\n",
      "10\n"
     ]
    }
   ],
   "source": [
    "a = 1\n",
    "print(a)\n",
    "a = 10\n",
    "print(a)"
   ]
  },
  {
   "cell_type": "code",
   "execution_count": 9,
   "id": "9791a8b3-ca65-4f10-8da8-6e5a3670a312",
   "metadata": {},
   "outputs": [
    {
     "name": "stdout",
     "output_type": "stream",
     "text": [
      "2 1\n"
     ]
    }
   ],
   "source": [
    "a = 1 # a = 1, b = None\n",
    "b = 1 # a = 1, b = 1\n",
    "a = 2 # a = 2, b = 1\n",
    "print(a,b)"
   ]
  },
  {
   "cell_type": "code",
   "execution_count": 10,
   "id": "ce2b05c2-5c32-475a-a58a-d8d99a6391c4",
   "metadata": {},
   "outputs": [],
   "source": [
    "a = 1\n",
    "b = 1.2\n",
    "c = \"hi\"\n",
    "d = True\n",
    "e = None"
   ]
  },
  {
   "cell_type": "code",
   "execution_count": 12,
   "id": "1eb1d1bd-3b7e-4a8d-9b1f-28b87ef1a6a4",
   "metadata": {},
   "outputs": [
    {
     "data": {
      "text/plain": [
       "NoneType"
      ]
     },
     "execution_count": 12,
     "metadata": {},
     "output_type": "execute_result"
    }
   ],
   "source": [
    "type(e)"
   ]
  },
  {
   "cell_type": "code",
   "execution_count": 17,
   "id": "4c985063-6447-4e4e-9fba-3aae234eb025",
   "metadata": {},
   "outputs": [],
   "source": [
    "a = 1\n",
    "b = \"1\"\n",
    "\n",
    "c = str(a)\n",
    "d = int(b)\n"
   ]
  },
  {
   "cell_type": "code",
   "execution_count": 23,
   "id": "d20059c2-da71-4e36-819b-b62c3c332cb3",
   "metadata": {},
   "outputs": [
    {
     "data": {
      "text/plain": [
       "int"
      ]
     },
     "execution_count": 23,
     "metadata": {},
     "output_type": "execute_result"
    }
   ],
   "source": [
    "type (d)"
   ]
  },
  {
   "cell_type": "code",
   "execution_count": 25,
   "id": "c8eea3bf-76ee-46e3-a1d6-03c81486742c",
   "metadata": {},
   "outputs": [
    {
     "name": "stdout",
     "output_type": "stream",
     "text": [
      "[1, 2, 3, 4, 5]\n"
     ]
    }
   ],
   "source": [
    "a = [1,2,3,4,5]\n",
    "print(a)"
   ]
  },
  {
   "cell_type": "code",
   "execution_count": 26,
   "id": "f0ca0c63-5545-4d10-9553-fcea09f946f1",
   "metadata": {},
   "outputs": [],
   "source": [
    "students = [[1,\"짱구\"],[2,\"철수\"],[3,\"맹구\"],[4,\"유리\"],[5,\"훈이\"]]"
   ]
  },
  {
   "cell_type": "code",
   "execution_count": 36,
   "id": "b6bc3fce-131a-450f-8a4f-8e31fb1ea8e7",
   "metadata": {},
   "outputs": [],
   "source": [
    "students[4][1] = \"수지\""
   ]
  },
  {
   "cell_type": "code",
   "execution_count": 41,
   "id": "83ae5b7d-62cf-483f-8aaa-aacddc5fd211",
   "metadata": {},
   "outputs": [
    {
     "name": "stdout",
     "output_type": "stream",
     "text": [
      "[[2, '철수'], [3, '맹구']]\n"
     ]
    }
   ],
   "source": [
    "print(students[1:3])"
   ]
  },
  {
   "cell_type": "code",
   "execution_count": 60,
   "id": "9a24c83d-d016-4329-a9e9-09a939525622",
   "metadata": {},
   "outputs": [],
   "source": [
    "a = [1,2,3,4,5]"
   ]
  },
  {
   "cell_type": "code",
   "execution_count": 61,
   "id": "ea3616e0-de1e-44f0-8f9e-fe75dea73d3c",
   "metadata": {},
   "outputs": [
    {
     "data": {
      "text/plain": [
       "5"
      ]
     },
     "execution_count": 61,
     "metadata": {},
     "output_type": "execute_result"
    }
   ],
   "source": [
    "len(a)"
   ]
  },
  {
   "cell_type": "code",
   "execution_count": 62,
   "id": "409b08aa-9a3d-4d2f-bd43-bc6bbe4e0994",
   "metadata": {},
   "outputs": [
    {
     "data": {
      "text/plain": [
       "[1, 2, 3, 4, 5, 6, 7]"
      ]
     },
     "execution_count": 62,
     "metadata": {},
     "output_type": "execute_result"
    }
   ],
   "source": [
    "b = a + [6,7]\n",
    "b"
   ]
  },
  {
   "cell_type": "code",
   "execution_count": 63,
   "id": "a8c33d9a-fc18-430a-913f-01621245de73",
   "metadata": {},
   "outputs": [
    {
     "data": {
      "text/plain": [
       "3.0"
      ]
     },
     "execution_count": 63,
     "metadata": {},
     "output_type": "execute_result"
    }
   ],
   "source": [
    "avg = sum(a)/len(a)\n",
    "avg"
   ]
  },
  {
   "cell_type": "code",
   "execution_count": 64,
   "id": "4c793d64-3281-4d7e-9218-b6b4cd97632a",
   "metadata": {},
   "outputs": [
    {
     "data": {
      "text/plain": [
       "3.0"
      ]
     },
     "execution_count": 64,
     "metadata": {},
     "output_type": "execute_result"
    }
   ],
   "source": [
    "import numpy\n",
    "numpy.mean(a)"
   ]
  },
  {
   "cell_type": "code",
   "execution_count": 65,
   "id": "09c634cd-04b7-4873-8adf-27ab9fbfa5a7",
   "metadata": {
    "scrolled": true
   },
   "outputs": [
    {
     "data": {
      "text/plain": [
       "[1, 2, 3, 4, 5, 6]"
      ]
     },
     "execution_count": 65,
     "metadata": {},
     "output_type": "execute_result"
    }
   ],
   "source": [
    "a.append(6)\n",
    "a"
   ]
  },
  {
   "cell_type": "code",
   "execution_count": 66,
   "id": "3aafb5b8-ecda-4129-ba78-faf6176c52ba",
   "metadata": {},
   "outputs": [
    {
     "data": {
      "text/plain": [
       "[1, 2, 3, 5, 6]"
      ]
     },
     "execution_count": 66,
     "metadata": {},
     "output_type": "execute_result"
    }
   ],
   "source": [
    "del a[3]\n",
    "a"
   ]
  },
  {
   "cell_type": "code",
   "execution_count": 68,
   "id": "68b8a2aa-d937-46ab-b0e7-63a8e93e99c0",
   "metadata": {},
   "outputs": [
    {
     "data": {
      "text/plain": [
       "[3, 5, 6]"
      ]
     },
     "execution_count": 68,
     "metadata": {},
     "output_type": "execute_result"
    }
   ],
   "source": [
    "b = a.pop(0)\n",
    "a"
   ]
  },
  {
   "cell_type": "code",
   "execution_count": 69,
   "id": "51d4a8cf-95bd-48d8-b9a9-81b833f6e03a",
   "metadata": {},
   "outputs": [
    {
     "data": {
      "text/plain": [
       "[7, 3, 5, 6]"
      ]
     },
     "execution_count": 69,
     "metadata": {},
     "output_type": "execute_result"
    }
   ],
   "source": [
    "a.insert(0,7)\n",
    "a"
   ]
  },
  {
   "cell_type": "code",
   "execution_count": 70,
   "id": "aa9b4ec3-2485-45d7-a75a-4fee2c55183f",
   "metadata": {},
   "outputs": [
    {
     "data": {
      "text/plain": [
       "[]"
      ]
     },
     "execution_count": 70,
     "metadata": {},
     "output_type": "execute_result"
    }
   ],
   "source": [
    "a.clear()\n",
    "a"
   ]
  },
  {
   "cell_type": "code",
   "execution_count": 74,
   "id": "f788f717-0942-4122-8827-c61de0c805db",
   "metadata": {},
   "outputs": [],
   "source": [
    "a = [1,2,3,4,5]"
   ]
  },
  {
   "cell_type": "code",
   "execution_count": 75,
   "id": "26128d1c-2b96-467c-833d-7b107e44f9b9",
   "metadata": {},
   "outputs": [
    {
     "data": {
      "text/plain": [
       "[1, 2, 3, 5]"
      ]
     },
     "execution_count": 75,
     "metadata": {},
     "output_type": "execute_result"
    }
   ],
   "source": [
    "a.remove(4)\n",
    "a"
   ]
  },
  {
   "cell_type": "code",
   "execution_count": 78,
   "id": "30f3384b-bf29-4132-9c58-2d1020690e4c",
   "metadata": {},
   "outputs": [
    {
     "data": {
      "text/plain": [
       "{1, 2, 3, 4, 5}"
      ]
     },
     "execution_count": 78,
     "metadata": {},
     "output_type": "execute_result"
    }
   ],
   "source": [
    "a = {1,2,4,3,5,2,2,1,3}\n",
    "a"
   ]
  },
  {
   "cell_type": "code",
   "execution_count": 87,
   "id": "e906352a-a1a3-4562-8ec3-ff5b4b744967",
   "metadata": {},
   "outputs": [
    {
     "data": {
      "text/plain": [
       "{'id': [1, 2, 3],\n",
       " 'name': ['짱수', '철수', '유리'],\n",
       " 'favorite': ['액션가면', '모에피', '토끼']}"
      ]
     },
     "execution_count": 87,
     "metadata": {},
     "output_type": "execute_result"
    }
   ],
   "source": [
    "students = {\\\n",
    "    \"id\" : [1,2,3],\\\n",
    "    \"name\" : [\"짱수\",\"철수\",\"유리\"],\\\n",
    "    \"favorite\" : [\"액션가면\", \"모에피\", \"토끼\"]\\\n",
    "    }\n",
    "students"
   ]
  },
  {
   "cell_type": "code",
   "execution_count": 88,
   "id": "df88b5f3-0779-4b0f-aa97-43ac25b2d759",
   "metadata": {},
   "outputs": [
    {
     "data": {
      "text/plain": [
       "2"
      ]
     },
     "execution_count": 88,
     "metadata": {},
     "output_type": "execute_result"
    }
   ],
   "source": [
    "students[\"id\"][1]"
   ]
  },
  {
   "cell_type": "code",
   "execution_count": 89,
   "id": "721d3d30-1d37-4b8c-a767-b9ff15f82028",
   "metadata": {},
   "outputs": [
    {
     "data": {
      "text/plain": [
       "dict_keys(['id', 'name', 'favorite'])"
      ]
     },
     "execution_count": 89,
     "metadata": {},
     "output_type": "execute_result"
    }
   ],
   "source": [
    "students.keys()"
   ]
  },
  {
   "cell_type": "code",
   "execution_count": 90,
   "id": "76e8d093-beda-4c75-991f-c8182f8bdfc0",
   "metadata": {},
   "outputs": [
    {
     "data": {
      "text/plain": [
       "dict_values([[1, 2, 3], ['짱수', '철수', '유리'], ['액션가면', '모에피', '토끼']])"
      ]
     },
     "execution_count": 90,
     "metadata": {},
     "output_type": "execute_result"
    }
   ],
   "source": [
    "students.values()"
   ]
  }
 ],
 "metadata": {
  "kernelspec": {
   "display_name": "Python [conda env:base] *",
   "language": "python",
   "name": "conda-base-py"
  },
  "language_info": {
   "codemirror_mode": {
    "name": "ipython",
    "version": 3
   },
   "file_extension": ".py",
   "mimetype": "text/x-python",
   "name": "python",
   "nbconvert_exporter": "python",
   "pygments_lexer": "ipython3",
   "version": "3.12.7"
  }
 },
 "nbformat": 4,
 "nbformat_minor": 5
}
