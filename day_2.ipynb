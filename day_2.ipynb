{
 "cells": [
  {
   "cell_type": "code",
   "execution_count": 2,
   "id": "e2b9af8e-2432-4b12-9edf-1143fcabd0ed",
   "metadata": {},
   "outputs": [
    {
     "name": "stdout",
     "output_type": "stream",
     "text": [
      "Hello World\n"
     ]
    }
   ],
   "source": [
    "print(\"Hello World\")"
   ]
  },
  {
   "cell_type": "code",
   "execution_count": 3,
   "id": "5b762875-2bdd-46fb-81ca-0498707bdb8c",
   "metadata": {},
   "outputs": [
    {
     "name": "stdout",
     "output_type": "stream",
     "text": [
      "a는 양수 입니다.\n"
     ]
    }
   ],
   "source": [
    "a = 1\n",
    "if a > 0:\n",
    "    print(\"a는 양수 입니다.\")"
   ]
  },
  {
   "cell_type": "code",
   "execution_count": 5,
   "id": "413b943e-c586-4f1b-9052-f7640fd1c583",
   "metadata": {},
   "outputs": [
    {
     "data": {
      "text/plain": [
       "True"
      ]
     },
     "execution_count": 5,
     "metadata": {},
     "output_type": "execute_result"
    }
   ],
   "source": [
    "a>0"
   ]
  },
  {
   "cell_type": "code",
   "execution_count": 6,
   "id": "821cca70-a744-4dbb-8acd-d4818098d70c",
   "metadata": {},
   "outputs": [
    {
     "name": "stdout",
     "output_type": "stream",
     "text": [
      "a는 1\n"
     ]
    }
   ],
   "source": [
    "a = 1\n",
    "if a is  int(1):\n",
    "    print(\"a는 1\")"
   ]
  },
  {
   "cell_type": "code",
   "execution_count": 8,
   "id": "715e8c59-bd67-436e-9354-683855551fc0",
   "metadata": {},
   "outputs": [],
   "source": [
    "a = 10\n",
    "b = 20\n",
    "l = [10,30,50]"
   ]
  },
  {
   "cell_type": "code",
   "execution_count": 9,
   "id": "dcaf5096-66ee-42eb-8a00-fab23af55200",
   "metadata": {},
   "outputs": [
    {
     "name": "stdout",
     "output_type": "stream",
     "text": [
      "a는 10 입니다.\n"
     ]
    }
   ],
   "source": [
    "if a == 10:\n",
    "    print(\"a는 10 입니다.\")"
   ]
  },
  {
   "cell_type": "code",
   "execution_count": 10,
   "id": "882548ed-94b3-4bde-9b2a-cdef9c6f7f19",
   "metadata": {},
   "outputs": [
    {
     "name": "stdout",
     "output_type": "stream",
     "text": [
      "a는 b보다 작습니다.\n"
     ]
    }
   ],
   "source": [
    "if a > b:\n",
    "    print(\"a는 b보다 큽니다.\")\n",
    "if a < b:\n",
    "    print(\"a는 b보다 작습니다.\")"
   ]
  },
  {
   "cell_type": "code",
   "execution_count": 11,
   "id": "f7540486-ae85-4406-bb9f-5f172df23c8e",
   "metadata": {},
   "outputs": [
    {
     "name": "stdout",
     "output_type": "stream",
     "text": [
      "a는 l안에 포함된다.\n"
     ]
    }
   ],
   "source": [
    "if a in l:\n",
    "    print(\"a는 l안에 포함된다.\")"
   ]
  },
  {
   "cell_type": "code",
   "execution_count": 12,
   "id": "1812ed45-aa7b-4e8e-84e2-3789fdff0e8e",
   "metadata": {},
   "outputs": [
    {
     "name": "stdout",
     "output_type": "stream",
     "text": [
      "True\n"
     ]
    }
   ],
   "source": [
    "if 1:\n",
    "    print(\"True\")"
   ]
  },
  {
   "cell_type": "code",
   "execution_count": 14,
   "id": "368e0edb-814f-420d-a5ce-eae7aeaa865e",
   "metadata": {},
   "outputs": [
    {
     "name": "stdout",
     "output_type": "stream",
     "text": [
      "a는 10이고 b는 20이다.\n"
     ]
    }
   ],
   "source": [
    "if a == 10 and b == 20:\n",
    "    print(\"a는 10이고 b는 20이다.\")"
   ]
  },
  {
   "cell_type": "code",
   "execution_count": 16,
   "id": "89e43bf2-54a9-46ee-b74f-a15d4ed0b190",
   "metadata": {},
   "outputs": [
    {
     "name": "stdout",
     "output_type": "stream",
     "text": [
      "a와 b 둘 중 10과 같은 것이 있다.\n"
     ]
    }
   ],
   "source": [
    "if a == 10 or b == 10:\n",
    "    print(\"a와 b 둘 중 10과 같은 것이 있다.\")"
   ]
  },
  {
   "cell_type": "code",
   "execution_count": 17,
   "id": "653bb0db-d7fc-4f6b-bbe4-4a46a556a3d6",
   "metadata": {},
   "outputs": [
    {
     "name": "stdout",
     "output_type": "stream",
     "text": [
      "a는 양수입니다.\n"
     ]
    }
   ],
   "source": [
    "a = 10\n",
    "\n",
    "if a > 0:\n",
    "    print(\"a는 양수입니다.\")\n",
    "elif a < 0:\n",
    "    print(\"a는 음수입니다.\")\n",
    "else:\n",
    "    print(\"a는 0입니다.\")"
   ]
  },
  {
   "cell_type": "code",
   "execution_count": 23,
   "id": "a7cbd451-94f0-4329-8367-9c0631c5d023",
   "metadata": {},
   "outputs": [
    {
     "name": "stdout",
     "output_type": "stream",
     "text": [
      "0\n",
      "1\n",
      "2\n",
      "3\n",
      "4\n",
      "5\n",
      "6\n",
      "7\n",
      "8\n",
      "9\n"
     ]
    }
   ],
   "source": [
    "count = 0\n",
    "\n",
    "while count < 10:\n",
    "    print(count)\n",
    "    count += 1"
   ]
  },
  {
   "cell_type": "code",
   "execution_count": 24,
   "id": "f6807a6a-367e-4454-b89d-864c71203760",
   "metadata": {},
   "outputs": [
    {
     "name": "stdout",
     "output_type": "stream",
     "text": [
      "0\n",
      "1\n",
      "2\n",
      "3\n",
      "4\n",
      "5\n",
      "6\n",
      "7\n",
      "8\n",
      "9\n"
     ]
    }
   ],
   "source": [
    "for i in range(0,10):\n",
    "    print(i)"
   ]
  },
  {
   "cell_type": "code",
   "execution_count": 25,
   "id": "df3ed20c-0fcf-48b6-be52-e388455febe0",
   "metadata": {},
   "outputs": [
    {
     "data": {
      "text/plain": [
       "[0, 1, 2, 3, 4, 5, 6, 7, 8, 9]"
      ]
     },
     "execution_count": 25,
     "metadata": {},
     "output_type": "execute_result"
    }
   ],
   "source": [
    "list(range(0,10))"
   ]
  },
  {
   "cell_type": "code",
   "execution_count": 27,
   "id": "80e54085-13ba-4244-8176-54cb9a260872",
   "metadata": {},
   "outputs": [
    {
     "name": "stdout",
     "output_type": "stream",
     "text": [
      "0\n",
      "1\n",
      "2\n",
      "3\n",
      "4\n",
      "5\n",
      "6\n",
      "7\n",
      "8\n",
      "9\n"
     ]
    }
   ],
   "source": [
    "for i in [0, 1, 2, 3, 4, 5, 6, 7, 8, 9]:\n",
    "    print(i)"
   ]
  },
  {
   "cell_type": "code",
   "execution_count": 35,
   "id": "ac42525a-693c-4e87-85d0-daaf8aa93922",
   "metadata": {},
   "outputs": [
    {
     "name": "stdout",
     "output_type": "stream",
     "text": [
      "짱구\n",
      "유리\n",
      "맹구\n",
      "훈이\n"
     ]
    }
   ],
   "source": [
    "for name in [\"짱구\",\"철수\",\"유리\",\"맹구\",\"훈이\"]:\n",
    "    if name == \"철수\":\n",
    "        continue #건너뛰기(스킴)\n",
    "    print(name)"
   ]
  },
  {
   "cell_type": "code",
   "execution_count": 36,
   "id": "10474912-c5fb-4a18-9b71-c056521970cd",
   "metadata": {},
   "outputs": [],
   "source": [
    "for i in range(0,5): #전부 다 스킵\n",
    "    continue\n",
    "    print(i)"
   ]
  },
  {
   "cell_type": "code",
   "execution_count": 38,
   "id": "2fdee43f-4b32-44e9-9934-f94076d5593c",
   "metadata": {},
   "outputs": [
    {
     "name": "stdout",
     "output_type": "stream",
     "text": [
      "0\n",
      "1\n"
     ]
    }
   ],
   "source": [
    "for i in range(0,5):\n",
    "    if i == 2:\n",
    "        break\n",
    "    print(i)"
   ]
  },
  {
   "cell_type": "code",
   "execution_count": 39,
   "id": "75231b36-2eab-4dca-9195-2bd9928a5951",
   "metadata": {},
   "outputs": [],
   "source": [
    "while True:\n",
    "    break\n",
    "    print(\"참입니다.\")"
   ]
  },
  {
   "cell_type": "code",
   "execution_count": 2,
   "id": "9ae518bd-c777-468f-95d3-8ddb5495adb6",
   "metadata": {},
   "outputs": [
    {
     "name": "stdout",
     "output_type": "stream",
     "text": [
      "0\n",
      "0\n",
      "1\n",
      "2\n",
      "3\n",
      "4\n",
      "1\n",
      "0\n",
      "1\n",
      "2\n",
      "3\n",
      "4\n",
      "2\n",
      "0\n",
      "1\n",
      "2\n",
      "3\n",
      "4\n",
      "3\n",
      "0\n",
      "1\n",
      "2\n",
      "3\n",
      "4\n",
      "4\n",
      "0\n",
      "1\n",
      "2\n",
      "3\n",
      "4\n"
     ]
    }
   ],
   "source": [
    "for i in range(0,5): \n",
    "    print(i)\n",
    "    for j in range(0,5):\n",
    "        print(j)\n",
    "        "
   ]
  },
  {
   "cell_type": "code",
   "execution_count": 3,
   "id": "8e32a8a5-c309-4e28-bcb5-96f81a27180f",
   "metadata": {},
   "outputs": [
    {
     "name": "stdin",
     "output_type": "stream",
     "text": [
      " yumin\n"
     ]
    },
    {
     "data": {
      "text/plain": [
       "'yumin'"
      ]
     },
     "execution_count": 3,
     "metadata": {},
     "output_type": "execute_result"
    }
   ],
   "source": [
    "input()"
   ]
  },
  {
   "cell_type": "code",
   "execution_count": 4,
   "id": "31451ebc-befb-47ae-b6fd-9f609a0ff2a2",
   "metadata": {},
   "outputs": [
    {
     "name": "stdin",
     "output_type": "stream",
     "text": [
      " yumin\n"
     ]
    }
   ],
   "source": [
    "name = input()"
   ]
  },
  {
   "cell_type": "code",
   "execution_count": 5,
   "id": "f16e0fa7-dbc8-4b34-afc3-29b61be8fe0e",
   "metadata": {},
   "outputs": [
    {
     "data": {
      "text/plain": [
       "'yumin'"
      ]
     },
     "execution_count": 5,
     "metadata": {},
     "output_type": "execute_result"
    }
   ],
   "source": [
    "name"
   ]
  },
  {
   "cell_type": "code",
   "execution_count": 6,
   "id": "d2cac367-313a-4621-8d5a-ba0cf2536979",
   "metadata": {},
   "outputs": [
    {
     "name": "stdin",
     "output_type": "stream",
     "text": [
      "사과는 몇개? 2\n"
     ]
    }
   ],
   "source": [
    "apple = input(\"사과는 몇개?\")"
   ]
  },
  {
   "cell_type": "code",
   "execution_count": 7,
   "id": "4129e7d1-e3c8-4a63-81a6-9de1317f5c94",
   "metadata": {},
   "outputs": [
    {
     "data": {
      "text/plain": [
       "'2'"
      ]
     },
     "execution_count": 7,
     "metadata": {},
     "output_type": "execute_result"
    }
   ],
   "source": [
    "apple"
   ]
  },
  {
   "cell_type": "code",
   "execution_count": 8,
   "id": "68467122-77d4-40af-917b-fd5552509d92",
   "metadata": {},
   "outputs": [
    {
     "name": "stdin",
     "output_type": "stream",
     "text": [
      "바나나는 몇개? 3\n"
     ]
    }
   ],
   "source": [
    "banana = input(\"바나나는 몇개?\")"
   ]
  },
  {
   "cell_type": "code",
   "execution_count": 9,
   "id": "f8603505-50d9-4136-8bb5-b8dbd252e24b",
   "metadata": {},
   "outputs": [
    {
     "data": {
      "text/plain": [
       "'3'"
      ]
     },
     "execution_count": 9,
     "metadata": {},
     "output_type": "execute_result"
    }
   ],
   "source": [
    "banana"
   ]
  },
  {
   "cell_type": "code",
   "execution_count": 14,
   "id": "e52dac9b-b7eb-4905-b9d4-73da353929c4",
   "metadata": {},
   "outputs": [
    {
     "data": {
      "text/plain": [
       "'23'"
      ]
     },
     "execution_count": 14,
     "metadata": {},
     "output_type": "execute_result"
    }
   ],
   "source": [
    "sum = apple + banana #문자\n",
    "sum"
   ]
  },
  {
   "cell_type": "code",
   "execution_count": 15,
   "id": "aaa6cdc2-e4dc-4c94-9439-aca05be9f089",
   "metadata": {},
   "outputs": [
    {
     "data": {
      "text/plain": [
       "5"
      ]
     },
     "execution_count": 15,
     "metadata": {},
     "output_type": "execute_result"
    }
   ],
   "source": [
    "sum = int(apple) + int(banana) #문자\n",
    "sum"
   ]
  },
  {
   "cell_type": "code",
   "execution_count": 16,
   "id": "5526cd0d-86d4-44c1-99e7-923987fa9cbe",
   "metadata": {},
   "outputs": [
    {
     "name": "stdout",
     "output_type": "stream",
     "text": [
      "pen pineapple apple pen\n"
     ]
    }
   ],
   "source": [
    "print(\"pen pineapple apple pen\")"
   ]
  },
  {
   "cell_type": "code",
   "execution_count": 17,
   "id": "10d03709-9248-4d6e-a598-60c4014ae41f",
   "metadata": {},
   "outputs": [
    {
     "name": "stdout",
     "output_type": "stream",
     "text": [
      "penpineappleapplepen\n"
     ]
    }
   ],
   "source": [
    "print(\"pen\" \"pineapple\" \"apple\" \"pen\")"
   ]
  },
  {
   "cell_type": "code",
   "execution_count": 18,
   "id": "6dae352b-0aa4-4a44-804d-6ac672de634d",
   "metadata": {},
   "outputs": [
    {
     "name": "stdout",
     "output_type": "stream",
     "text": [
      "pen pineapple apple pen\n"
     ]
    }
   ],
   "source": [
    "print(\"pen\",\"pineapple\",\"apple\",\"pen\")"
   ]
  },
  {
   "cell_type": "code",
   "execution_count": 19,
   "id": "42b469d1-8c19-4374-acdd-d74964d8060f",
   "metadata": {},
   "outputs": [
    {
     "name": "stdout",
     "output_type": "stream",
     "text": [
      "penpineappleapplepen\n"
     ]
    }
   ],
   "source": [
    "print(\"pen\"+\"pineapple\"+\"apple\"+\"pen\")"
   ]
  },
  {
   "cell_type": "code",
   "execution_count": 28,
   "id": "eac1486c-5757-465d-bf9d-15748c610eae",
   "metadata": {},
   "outputs": [
    {
     "name": "stdout",
     "output_type": "stream",
     "text": [
      "pen\t5 "
     ]
    }
   ],
   "source": [
    "print(\"pen\", end='\\t')\n",
    "print(5, end=' ')"
   ]
  },
  {
   "cell_type": "code",
   "execution_count": null,
   "id": "987df638-51eb-49e8-9dff-69ad56324908",
   "metadata": {},
   "outputs": [],
   "source": []
  }
 ],
 "metadata": {
  "kernelspec": {
   "display_name": "Python [conda env:base] *",
   "language": "python",
   "name": "conda-base-py"
  },
  "language_info": {
   "codemirror_mode": {
    "name": "ipython",
    "version": 3
   },
   "file_extension": ".py",
   "mimetype": "text/x-python",
   "name": "python",
   "nbconvert_exporter": "python",
   "pygments_lexer": "ipython3",
   "version": "3.12.7"
  }
 },
 "nbformat": 4,
 "nbformat_minor": 5
}
